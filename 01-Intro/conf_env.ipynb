{
 "cells": [
  {
   "cell_type": "code",
   "execution_count": 16,
   "id": "b5c4c08e-d9b3-418f-9b84-84a86a899021",
   "metadata": {},
   "outputs": [],
   "source": [
    "from ai21 import AI21Client\n",
    "from ai21.models.chat import ChatMessage"
   ]
  },
  {
   "cell_type": "code",
   "execution_count": 17,
   "id": "05958510-97e0-4e43-abfa-d377470162fd",
   "metadata": {
    "scrolled": true
   },
   "outputs": [],
   "source": [
    "client = AI21Client(api_key=\"7d4hjXu7tko3NWagV21Hk5bgfaOP8mrc\")"
   ]
  },
  {
   "cell_type": "code",
   "execution_count": 37,
   "id": "28db8961-ce1b-4e82-9f81-1f71693938a5",
   "metadata": {},
   "outputs": [],
   "source": [
    "def chat(role, content):\n",
    "    messages = [\n",
    "    ChatMessage(\n",
    "    role=role,\n",
    "    content=content\n",
    "    )\n",
    "    ]\n",
    "    \n",
    "    response = client.chat.completions.create(\n",
    "    model=\"jamba-instruct-preview\",\n",
    "    messages=messages,\n",
    "    temperature=0.7\n",
    "    )\n",
    "    return response.choices[0].message.content"
   ]
  },
  {
   "cell_type": "code",
   "execution_count": 24,
   "id": "1bdde95e-3260-46b8-aaf0-1ac827d23991",
   "metadata": {},
   "outputs": [
    {
     "name": "stdout",
     "output_type": "stream",
     "text": [
      "DataTalksClub is a community for data professionals, offering a platform for networking, learning, and sharing insights. They host virtual meetups, conferences, and provide resources on various data-related topics.\n"
     ]
    }
   ],
   "source": [
    "print(response.choices[0].message.content)"
   ]
  },
  {
   "cell_type": "code",
   "execution_count": 38,
   "id": "b40e51ee-0a13-4fda-99c2-994a220e2027",
   "metadata": {
    "scrolled": true
   },
   "outputs": [
    {
     "data": {
      "text/plain": [
       "'Hello! How can I assist you today?'"
      ]
     },
     "execution_count": 38,
     "metadata": {},
     "output_type": "execute_result"
    }
   ],
   "source": [
    "chat(\"user\",\"Hello, Limit is 2 words\")"
   ]
  },
  {
   "cell_type": "code",
   "execution_count": null,
   "id": "79b0ef1e-33be-4f9e-9d48-4ae06e1e51d4",
   "metadata": {},
   "outputs": [],
   "source": []
  }
 ],
 "metadata": {
  "kernelspec": {
   "display_name": "Python 3 (ipykernel)",
   "language": "python",
   "name": "python3"
  },
  "language_info": {
   "codemirror_mode": {
    "name": "ipython",
    "version": 3
   },
   "file_extension": ".py",
   "mimetype": "text/x-python",
   "name": "python",
   "nbconvert_exporter": "python",
   "pygments_lexer": "ipython3",
   "version": "3.10.13"
  }
 },
 "nbformat": 4,
 "nbformat_minor": 5
}
